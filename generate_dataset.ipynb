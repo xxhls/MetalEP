{
 "cells": [
  {
   "cell_type": "markdown",
   "metadata": {},
   "source": [
    "# 将特征和标签保存为NPY"
   ]
  },
  {
   "cell_type": "markdown",
   "metadata": {},
   "source": [
    "## 保存ESM特征和标签"
   ]
  },
  {
   "cell_type": "code",
   "execution_count": 3,
   "metadata": {},
   "outputs": [],
   "source": [
    "from numpy import array, save\n",
    "from torch import load, stack\n",
    "from utils.index import ROOT\n",
    "from esm.data import read_fasta\n",
    "\n",
    "\n",
    "FEATURES = ROOT / \"features\"\n",
    "ESM = FEATURES / \"esm\"\n",
    "DATA = ROOT / \"data\"\n",
    "FASTA_PATH = DATA / \"data_final.fasta\"\n",
    "DATASET = ROOT / \"dataset\"\n",
    "Xs = []\n",
    "ys = []\n",
    "for header, _ in read_fasta(FASTA_PATH):\n",
    "  disease = header.split(\"_\")[1]\n",
    "  ys.append(float(disease))\n",
    "  pt_path = ESM / f\"{header}.pt\"\n",
    "  embs = load(pt_path)\n",
    "  Xs.append(embs['representations'][33])\n",
    "Xs = stack(Xs, dim=0).numpy()\n",
    "ys = array(ys)\n",
    "save(DATASET / \"ESM.npy\", Xs)\n",
    "save(DATASET / \"Labels.npy\", ys)"
   ]
  },
  {
   "cell_type": "markdown",
   "metadata": {},
   "source": [
    "## 保存Prot特征"
   ]
  },
  {
   "cell_type": "code",
   "execution_count": 4,
   "metadata": {},
   "outputs": [],
   "source": [
    "from h5py import File\n",
    "from numpy import array, save\n",
    "from utils.index import ROOT\n",
    "\n",
    "\n",
    "FEATURES = ROOT / \"features\"\n",
    "H5_PATH = FEATURES / \"prot\" / \"data_final.h5\"\n",
    "DATASET = ROOT / \"dataset\"\n",
    "Xs = []\n",
    "with File(H5_PATH, \"r\") as h5:\n",
    "\tfor key in h5.keys():\n",
    "\t\tXs.append(h5[key][:])\n",
    "Xs = array(Xs)\n",
    "save(DATASET / \"Prot.npy\", Xs)"
   ]
  }
 ],
 "metadata": {
  "kernelspec": {
   "display_name": "venv",
   "language": "python",
   "name": "python3"
  },
  "language_info": {
   "codemirror_mode": {
    "name": "ipython",
    "version": 3
   },
   "file_extension": ".py",
   "mimetype": "text/x-python",
   "name": "python",
   "nbconvert_exporter": "python",
   "pygments_lexer": "ipython3",
   "version": "3.8.10"
  }
 },
 "nbformat": 4,
 "nbformat_minor": 2
}
