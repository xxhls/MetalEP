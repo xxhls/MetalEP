{
 "cells": [
  {
   "cell_type": "markdown",
   "metadata": {},
   "source": [
    "# 数据处理"
   ]
  },
  {
   "cell_type": "markdown",
   "metadata": {},
   "source": [
    "## 读取Excel并将其混合为二进展文件"
   ]
  },
  {
   "cell_type": "code",
   "execution_count": 11,
   "metadata": {},
   "outputs": [],
   "source": [
    "from utils.index import dump_cache, load_excel, ROOT\n",
    "\n",
    "\n",
    "DATA = ROOT / \"data\"\n",
    "data_mixed = []\n",
    "for file in DATA.glob(\"*.xlsx\"):\n",
    "    df = load_excel(file)\n",
    "    for row in df[1:]:\n",
    "        data_mixed.append(row[:10])\n",
    "dump_cache(data_mixed, \"data_mixed.pkl\")"
   ]
  },
  {
   "cell_type": "markdown",
   "metadata": {},
   "source": [
    "## 提取混合数据的ID_LOC_AA字典"
   ]
  },
  {
   "cell_type": "code",
   "execution_count": 1,
   "metadata": {},
   "outputs": [],
   "source": [
    "from utils.index import load_cache, dump_cache\n",
    "\n",
    "\n",
    "data_mixed = load_cache(\"data_mixed.pkl\")\n",
    "id_loc_aa = {}\n",
    "for row in data_mixed:\n",
    "    id = row[0]\n",
    "    aa = row[2]\n",
    "    loc = int(row[4])\n",
    "    if id not in id_loc_aa:\n",
    "        id_loc_aa[id] = {}\n",
    "    id_loc_aa[id][loc] = aa\n",
    "dump_cache(id_loc_aa, \"id_loc_aa.pkl\")"
   ]
  }
 ],
 "metadata": {
  "kernelspec": {
   "display_name": "MetalEP-YYiZlesE",
   "language": "python",
   "name": "python3"
  },
  "language_info": {
   "codemirror_mode": {
    "name": "ipython",
    "version": 3
   },
   "file_extension": ".py",
   "mimetype": "text/x-python",
   "name": "python",
   "nbconvert_exporter": "python",
   "pygments_lexer": "ipython3",
   "version": "3.8.10"
  }
 },
 "nbformat": 4,
 "nbformat_minor": 2
}
